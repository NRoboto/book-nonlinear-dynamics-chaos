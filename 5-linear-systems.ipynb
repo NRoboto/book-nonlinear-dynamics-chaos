{
 "cells": [
  {
   "cell_type": "code",
   "execution_count": 1,
   "metadata": {},
   "outputs": [],
   "source": [
    "# Setup\n",
    "\n",
    "%load_ext autoreload\n",
    "%autoreload 2\n",
    "\n",
    "import matplotlib.pyplot as plt\n",
    "import numpy as np\n",
    "from scipy.optimize import root as sp_root\n",
    "\n",
    "from utils.solvers import FirstOrderDiffEqn\n",
    "from utils.solvers.firstorder import num_sol_runge_kutta,num_sol_euler\n",
    "from utils.plot.utils import draw_circle, draw_arrow\n",
    "\n",
    "plt.rcParams[\"figure.figsize\"] = (20, 20)\n",
    "\n",
    "def saveFig(filename, chapter):\n",
    "  plt.savefig(f\"plots/chapter{chapter}/{filename}.png\", facecolor=\"w\")"
   ]
  },
  {
   "cell_type": "markdown",
   "metadata": {},
   "source": [
    "# Chapter 5 - Linear Systems\n",
    "\n",
    "The simplest two-dimensional system is a linear system, defined by\n",
    "$$\n",
    "\\begin{equation}\n",
    "\\dot{\\mathbf{x}} = A\\mathbf{x}\n",
    "\\end{equation}\n",
    "$$\n",
    "Where $A = \\begin{pmatrix} a & b \\\\ c & d \\end{pmatrix}$ and $\\mathbf{x} = \\begin{pmatrix} x \\\\ y \\end{pmatrix}$\n",
    "\n",
    "- Linear in the sense that linear superposition of solutions is itself a solution\n",
    "- Consider solutions with straight-line trajectories, will have form $\\mathbf{x}(t) = e^{\\lambda t}\\mathbf{v}$ where $\\lambda \\in \\mathbb{C}$ and $\\mathbf{v}$ is some constant vector\n",
    "  - Implies $Ae^{\\lambda t}\\mathbf{v} = A\\mathbf{x} = \\dot{\\mathbf{x}} = \\lambda e^{\\lambda t}\\mathbf{v} \\implies A\\mathbf{v} = \\lambda\\mathbf{v}$\n",
    "  - Eigenvalue problem, solutions form an eigenbasis for the solution space\n",
    "\n",
    "$$\n",
    "\\begin{equation}\n",
    "  \\begin{pmatrix}\n",
    "    a - \\lambda & b \\\\\n",
    "    c & d - \\lambda\n",
    "  \\end{pmatrix} = 0 \\implies \\lambda^2 - (a + d)\\lambda + ad - bc = 0 \\implies \\lambda = \\frac{a + d \\pm \\sqrt{(a + d)^2 - 4(ad - bc)}}{2}\n",
    "\\end{equation}\n",
    "$$\n",
    "Letting $\\Delta = \\text{det}(A) = ad - bc$ and $\\tau = \\text{tr}(A) = a + d$, then $\\lambda = \\frac{\\tau \\pm \\sqrt{\\tau^2 - 4\\Delta}}{2}$\n",
    "\n",
    "- In general defines two eigenvectors\n",
    "- For initial condition $\\mathbf{x}(0) = c_1\\mathbf{v_1} + c_2\\mathbf{v_2}$, a solution is $\\mathbf{x}(t) = c_1e^{\\lambda_1 t}\\mathbf{v_1} + c_2e^{\\lambda_2 t}\\mathbf{v_2}$ as it is a linear combination of solutions, and by the uniqueness theorem this is the only solution\n",
    "- For real solutions, will eventually by asymptotic to the slower decaying eigendirection"
   ]
  }
 ],
 "metadata": {
  "kernelspec": {
   "display_name": "Python 3.9.12 (conda)",
   "language": "python",
   "name": "python3"
  },
  "language_info": {
   "codemirror_mode": {
    "name": "ipython",
    "version": 3
   },
   "file_extension": ".py",
   "mimetype": "text/x-python",
   "name": "python",
   "nbconvert_exporter": "python",
   "pygments_lexer": "ipython3",
   "version": "3.9.12"
  },
  "orig_nbformat": 4,
  "vscode": {
   "interpreter": {
    "hash": "6e12e09bf3594600f935f218271564b392f420536b44b427fa3ed118e4bf8e0d"
   }
  }
 },
 "nbformat": 4,
 "nbformat_minor": 2
}
